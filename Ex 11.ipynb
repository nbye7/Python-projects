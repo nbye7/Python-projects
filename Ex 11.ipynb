{
 "cells": [
  {
   "cell_type": "code",
   "execution_count": 1,
   "id": "bedfef76",
   "metadata": {},
   "outputs": [
    {
     "name": "stdout",
     "output_type": "stream",
     "text": [
      "My name is April and I scored 85 on the final\n",
      "classNum = 1, finalAvg = 85.0\n",
      "My name is Bill and I scored 88 on the final\n",
      "classNum = 2, finalAvg = 86.5\n",
      "My name is Cindy and I scored 92 on the final\n",
      "classNum = 3, finalAvg = 88.33333333333333\n",
      "My name is Dave and I scored 77 on the final\n",
      "classNum = 4, finalAvg = 85.5\n"
     ]
    }
   ],
   "source": [
    "class IS310Student:\n",
    "    classNum = 0;\n",
    "    finalAvg = 0.0\n",
    "\n",
    "    def __init__(self,aNum,name,finalScore):\n",
    "        self.aNum = aNum\n",
    "        self.name = name\n",
    "        self.finalScore = finalScore\n",
    "        totalPoints = IS310Student.classNum * IS310Student.finalAvg + finalScore\n",
    "        IS310Student.classNum += 1\n",
    "        IS310Student.finalAvg = totalPoints / IS310Student.classNum\n",
    "    def speak(self):\n",
    "        print(\"My name is {0} and I scored {1} on the final\".format(self.name, self.finalScore))\n",
    "\n",
    "s1 = IS310Student(\"A111\",\"April\",85)\n",
    "s1.speak()\n",
    "print(\"classNum = {0}, finalAvg = {1}\".format(IS310Student.classNum,IS310Student.finalAvg))\n",
    "s2 = IS310Student(\"A222\",\"Bill\",88)\n",
    "s2.speak()\n",
    "print(\"classNum = {0}, finalAvg = {1}\".format(IS310Student.classNum,IS310Student.finalAvg))\n",
    "s3 = IS310Student(\"A333\",\"Cindy\",92)\n",
    "s3.speak()\n",
    "print(\"classNum = {0}, finalAvg = {1}\".format(IS310Student.classNum,IS310Student.finalAvg))\n",
    "s4 = IS310Student(\"A444\",\"Dave\",77)\n",
    "s4.speak()\n",
    "print(\"classNum = {0}, finalAvg = {1}\".format(IS310Student.classNum,IS310Student.finalAvg))"
   ]
  },
  {
   "cell_type": "code",
   "execution_count": null,
   "id": "0b9da4f8",
   "metadata": {},
   "outputs": [],
   "source": []
  }
 ],
 "metadata": {
  "kernelspec": {
   "display_name": "Python 3 (ipykernel)",
   "language": "python",
   "name": "python3"
  },
  "language_info": {
   "codemirror_mode": {
    "name": "ipython",
    "version": 3
   },
   "file_extension": ".py",
   "mimetype": "text/x-python",
   "name": "python",
   "nbconvert_exporter": "python",
   "pygments_lexer": "ipython3",
   "version": "3.9.13"
  }
 },
 "nbformat": 4,
 "nbformat_minor": 5
}
